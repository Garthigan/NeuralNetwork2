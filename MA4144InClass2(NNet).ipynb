{
 "cells": [
  {
   "cell_type": "markdown",
   "id": "56157fb7-11e7-4151-8a9c-e95c4a844924",
   "metadata": {
    "deletable": false,
    "editable": false,
    "slideshow": {
     "slide_type": ""
    },
    "tags": []
   },
   "source": [
    "# <center>Feedforward and Backpropagation</center>\n",
    "## <center>Inclass Project 2 - MA4144</center>\n",
    "\n",
    "This project contains 12 tasks/questions to be completed, some require written answers. Open a markdown cell below the respective question that require written answers and provide (type) your answers. Questions that required written answers are given in blue fonts. Almost all written questions are open ended, they do not have a correct or wrong answer. You are free to give your opinions, but please provide related answers within the context.\n",
    "\n",
    "After finishing project run the entire notebook once and **save the notebook as a pdf** (File menu -> Save and Export Notebook As -> PDF). You are **required to upload this PDF on moodle and also the ipynb notebook file as well**.\n",
    "\n",
    "***"
   ]
  },
  {
   "attachments": {},
   "cell_type": "markdown",
   "id": "37c45f68-8516-4bd3-80b3-fa38c9fc01bf",
   "metadata": {
    "deletable": false,
    "editable": false
   },
   "source": [
    "## Outline of the project\n",
    "\n",
    "The aim of the project is to build a Multi Layer perceptron (MLP) model from scratch for binary classification. That is given an input $x$ output the associated class label $0$ or $1$.\n",
    "\n",
    "In particular, we will classify images of handwritten digits ($0, 1, 2, \\cdots, 9$). For example, given a set of handwritten digit images that only contain two digits (Eg: $1$ and $5$) the model will classify the images based on the written digit.\n",
    "\n",
    "For this we will use the MNIST dataset (collection of $28 \\times 28$ images of handwritten digits) - you can find additional information about MNIST [here](https://en.wikipedia.org/wiki/MNIST_database).\n",
    "\n",
    "<img src=\"https://upload.wikimedia.org/wikipedia/commons/f/f7/MnistExamplesModified.png\" width=\"250\">\n",
    "\n",
    "***\n"
   ]
  },
  {
   "cell_type": "markdown",
   "id": "ba8a0988-42a0-4e8f-abf5-2bc3ddf18304",
   "metadata": {
    "deletable": false,
    "editable": false
   },
   "source": [
    "Use the below cell to use any include any imports"
   ]
  },
  {
   "cell_type": "code",
   "execution_count": 330,
   "id": "aac8649a-c1fe-4236-8ebd-ce3faa43ee3b",
   "metadata": {},
   "outputs": [],
   "source": [
    "import numpy as np\n",
    "import matplotlib.pyplot as plt\n",
    "from sklearn.metrics import accuracy_score"
   ]
  },
  {
   "cell_type": "markdown",
   "id": "e64c6025-f0e5-440e-ab25-fb22393f186c",
   "metadata": {
    "deletable": false,
    "editable": false
   },
   "source": [
    "## Section 1: Preparing the data"
   ]
  },
  {
   "cell_type": "code",
   "execution_count": 331,
   "id": "41a0c01b-d4ce-47c6-ad39-80ea85a59543",
   "metadata": {},
   "outputs": [
    {
     "name": "stdout",
     "output_type": "stream",
     "text": [
      "(60000, 28, 28)\n",
      "(60000,)\n"
     ]
    }
   ],
   "source": [
    "#Load the dataset as training and testing, then print out the shapes of the data matrices.\n",
    "#The training data will be provided to you.\n",
    "\n",
    "data = np.load('train_mnist.npz')\n",
    "train_X = data['x']\n",
    "train_y = data['y']\n",
    "print(train_X.shape)\n",
    "print(train_y.shape)"
   ]
  },
  {
   "cell_type": "markdown",
   "id": "1135bf15-9a80-4d14-8fb4-e30c9e53a4cf",
   "metadata": {
    "deletable": false,
    "editable": false
   },
   "source": [
    "**Q1.** In the following cell write code to display $5$ random images in train_X and it's corresponding label in train_y. Each time it is run, you should get a different set of images. The imshow function in the matplotlib library could be useful. Display them as [grayscale images](https://en.wikipedia.org/wiki/Grayscale)."
   ]
  },
  {
   "cell_type": "code",
   "execution_count": 332,
   "id": "dad09af0-90d7-4590-922e-d114755455a4",
   "metadata": {},
   "outputs": [
    {
     "data": {
      "image/png": "[encoded data removed]",
      "text/plain": [
       "<Figure size 1000x300 with 5 Axes>"
      ]
     },
     "metadata": {},
     "output_type": "display_data"
    }
   ],
   "source": [
    "# Display random images\n",
    "def display_random_images(images, labels, num_images=5):\n",
    "    plt.figure(figsize=(10, 3))\n",
    "    random_indices = np.random.choice(len(images), num_images, replace=False)\n",
    "    \n",
    "    for i, idx in enumerate(random_indices):\n",
    "        plt.subplot(1, num_images, i+1)\n",
    "        plt.imshow(images[idx].reshape(28, 28), cmap='gray')\n",
    "        plt.title(f\"Label: {labels[idx]}\")\n",
    "        plt.axis('off')\n",
    "    plt.tight_layout()\n",
    "    plt.show()\n",
    "\n",
    "display_random_images(train_X, train_y, 5)"
   ]
  },
  {
   "cell_type": "markdown",
   "id": "580fd94a-370c-468b-ba0f-01c2506d4810",
   "metadata": {
    "deletable": false,
    "editable": false
   },
   "source": [
    "**Q2.** Given two digits $d_1$ and $d_2$, both between $0$ and $9$, in the following cell fill in the function body to extract all the samples corresponding to $d_1$ or $d_2$ only, from the dataset $X$ and labels $y$. You can use the labels $y$ to filter the dataset. Assume that the label for the $i$th image $X[i]$ in $X$ is given by $y[i]$. The function should return the extracted samples $X_{extracted}$ and corresponding labels $y_{extracted}$. Avoid using for loops as much as possible, infact you do not need any for loops. numpy.where function should be useful."
   ]
  },
  {
   "cell_type": "code",
   "execution_count": 333,
   "id": "8cd468f8-f28e-405d-aa0a-ac97470615f2",
   "metadata": {},
   "outputs": [],
   "source": [
    "def extract_digits(X, y, d1, d2):\n",
    "    assert d1 in range(0, 10), \"d1 should be a number between 0 and 9 inclusive\"\n",
    "    assert d2 in range(0, 10), \"d2 should be a number between 0 and 9 inclusive\"\n",
    "    \n",
    "    # Create a boolean mask for digits d1 and d2\n",
    "    mask = np.logical_or(y == d1, y == d2)\n",
    "    \n",
    "    # Apply the mask to extract samples and labels\n",
    "    X_extracted = X[mask]\n",
    "    y_extracted = y[mask]\n",
    "    \n",
    "    return (X_extracted, y_extracted)"
   ]
  },
  {
   "attachments": {},
   "cell_type": "markdown",
   "id": "29123736-f5a7-4981-afd8-cdb69bae3f7d",
   "metadata": {
    "deletable": false,
    "editable": false
   },
   "source": [
    "**Q3.** Both the training dataset is a 3 dimensional numpy array, each image occupies 2 dimensions. For convenience of processing data we usually comvert each $28 \\times 28$ image matrix to a vector with $784$ entries. We call this process **vectorize images**.\n",
    "\n",
    "Once we vectorize the images, the vectorized data set would be structured as follows: $i$th row will correspond to a single image and $j$th column will correspond to the $j$th pixel value of each vectorized image. However going along with the convention we discussed in the lecture, the input to the MLP model will require that the columns correspond to individual images. Hence we also require a transpose of the vectorized results.\n",
    "\n",
    "The pixel values in the images will range from $0$ to $255$. Normalize the pixel values between $0$ and $1$, by dividing each pixel value of each image by the maximum pixel value of that image. Simply divide each column of the resulting matrix above by the max of each column. \n",
    "\n",
    "<center><img src=\"https://encrypted-tbn0.gstatic.com/images?q=tbn:ANd9GcTdN_8m9FEqjqAB07obTmB6gNc7S2rSoGBYaA&s\"></center>\n",
    "\n",
    "Given a dataset $X$ of size $N \\times 28 \\times 28$, in the following cell fill in the function to do the following in order;\n",
    "1. Vectorize the dataset resulting in dataset of size $N \\times 784$.\n",
    "2. Transpose the vectorized result.\n",
    "3. Normalize the pixel values of each image.\n",
    "4. Finally return the vectorized, transposed and normalized dataset $X_{transformed}$.\n",
    "\n",
    "Again, avoid for loops, functions such as numpy.reshape, numpy.max etc should be useful."
   ]
  },
  {
   "cell_type": "code",
   "execution_count": 334,
   "id": "eb50027a-5a36-4279-9972-a2bf449bef3d",
   "metadata": {},
   "outputs": [],
   "source": [
    "def vectorize_images(X):\n",
    "    \n",
    "    X_vectorized = X.reshape(X.shape[0], -1).T\n",
    "    X_vectorized = X_vectorized / np.max(X_vectorized, axis=0)\n",
    "\n",
    "    return(X_vectorized)"
   ]
  },
  {
   "cell_type": "markdown",
   "id": "fbc428f8-0eec-4eb2-9df2-53cd924c9c9d",
   "metadata": {
    "deletable": false,
    "editable": false
   },
   "source": [
    "**Q4.** In the following cell write code to;\n",
    "\n",
    "1. Extract images of the digits $d_1 = 1$ and $d_2 = 5$ with their corresponding labels for the training set (train_X, train_y).\n",
    "2. Then vectorize the data, tranpose the result and normlize the images.\n",
    "3. Store the results after the final transformations in numpy arrays train_X_1_5, train_y_1_5.\n",
    "4. Our MLP will output only class labels $0$ and $1$ (not $1$ and $5$), so create numpy arrays to store the class labels as follows:\n",
    "   $d_1 = 1$ -> class label = 0 and $d_2 = 5$ -> class label = 1. Store them in an array named train_y_1_5.\n",
    "\n",
    "Use the above functions you implemented above to complete this task. In addtion, numpy.where could be useful. Avoid for loops as much as possible."
   ]
  },
  {
   "cell_type": "code",
   "execution_count": 335,
   "id": "2f1eea24-60a5-48ce-829a-67d61645078d",
   "metadata": {},
   "outputs": [
    {
     "name": "stdout",
     "output_type": "stream",
     "text": [
      "Processed training data shape: (784, 12163)\n",
      "Processed labels shape: (12163,)\n",
      "Label counts: (array([0, 1]), array([6742, 5421]))\n"
     ]
    }
   ],
   "source": [
    "train_X_extract, train_y_extract = extract_digits(train_X, train_y, 1, 5)\n",
    "\n",
    "train_X_1_5 = vectorize_images(train_X_extract)\n",
    "\n",
    "train_y_1_5 = np.where(train_y_extract == 5, 1, 0)\n",
    "\n",
    "print(\"Processed training data shape:\", train_X_1_5.shape)\n",
    "print(\"Processed labels shape:\", train_y_1_5.shape)\n",
    "print(\"Label counts:\", np.unique(train_y_1_5, return_counts=True))"
   ]
  },
  {
   "cell_type": "markdown",
   "id": "8d99382b-43b7-4375-8825-4b7d267b6dac",
   "metadata": {
    "deletable": false,
    "editable": false
   },
   "source": [
    "## Section 2: Implementing MLP from scratch with training algorithms."
   ]
  },
  {
   "cell_type": "markdown",
   "id": "5864b18e-cf2e-4da6-a3df-20b8bd84633f",
   "metadata": {
    "deletable": false,
    "editable": false
   },
   "source": [
    "Now we will implement code to build a customizable MLP model. The hidden layers will have the **Relu activation function** and the final output layer will have **Sigmoid activation function**."
   ]
  },
  {
   "cell_type": "markdown",
   "id": "3247c43d-7e37-4e72-9232-5e01898c39a8",
   "metadata": {
    "deletable": false,
    "editable": false,
    "slideshow": {
     "slide_type": ""
    },
    "tags": []
   },
   "source": [
    "**Q5.** Recall the following about the activation functions:\n",
    "1. Sigmoid activation: $y = \\sigma(z) = \\frac{1}{1 + e^{-z}}$.\n",
    "2. Derivative of Sigmoid: $y' = \\sigma'(z) = \\sigma(z) (1 - \\sigma(z)) = y(1-y)$\n",
    "3. ReLu activation: $y = ReLu(z) = max(0, z)$\n",
    "4. Derivative of ReLu: $y' = ReLu'(z) = \\begin{cases} 0 \\; \\textrm{if } z < 0 \\\\ 1 \\; \\textrm{otherwise} \\end{cases} = \\begin{cases} 0 \\; \\textrm{if } y = 0 \\\\ 1 \\; \\textrm{otherwise} \\end{cases}$\n",
    "\n",
    "In the following cell implement the functions to compute activation functions Sigmoid and ReLu given $z$ and derivatives of the Sigmoid and ReLu activation functions given $y$. Note that, in the implementation, the derivative functions should actually accept $y$ as the input not $z$.\n",
    "\n",
    "In practice the input will not be just single numbers, but matrices. So functions or derivatives should be applied elementwise on matrices. Again avoid for loops, use the power of numpy arrays - search for numpy's capability of doing elementwise computations.\n",
    "\n",
    "Important: When implementing the sigmoid function make sure you handle overflows due to $e^{-z}$ being too large. To avoid you can choose to set the sigmoid value to 'the certain appropriate value' if $z$ is less than a certain good enough negative threshold. If you do not handle overflows, the entire result will be useless since the MLP will just output Nan (not a number) for every input at the end."
   ]
  },
  {
   "cell_type": "code",
   "execution_count": 336,
   "id": "ac42dde5-2b7d-4fc2-a5bc-4d396822e995",
   "metadata": {
    "nbgrader": {
     "grade": false,
     "grade_id": "cell-26cf7a0bbe0f6dd9",
     "locked": false,
     "schema_version": 3,
     "solution": true,
     "task": false
    }
   },
   "outputs": [],
   "source": [
    "def sigmoid(Z):\n",
    "    \n",
    "    Z = np.clip(Z, -700, 700)\n",
    "    sigma = 1 / (1 + np.exp(-Z))\n",
    "    \n",
    "    return sigma\n",
    "\n",
    "def deriv_sigmoid(Y):\n",
    "    \n",
    "    sigma_prime = Y * (1 - Y)\n",
    "    \n",
    "    return sigma_prime\n",
    "\n",
    "def ReLu(Z):\n",
    "    \n",
    "    relu = np.maximum(0, Z)\n",
    "    \n",
    "    return relu\n",
    "\n",
    "def deriv_ReLu(Y):\n",
    "    \n",
    "    relu_prime = (Y > 0).astype(float)\n",
    "    \n",
    "    return relu_prime"
   ]
  },
  {
   "cell_type": "markdown",
   "id": "88ca012e-5c82-4689-8170-28f6110cc9b5",
   "metadata": {
    "deletable": false,
    "editable": false
   },
   "source": [
    "**Q6.** The following piece of code defines a simple MLP architecture as a Python class and subsequent initialization of a MLP model. <font color='blue'>Certain lines of code contains commented line numbers. Write a short sentence for each such line explaining its purpose. Feel free to refer to the lecture notes or any resources to answers these question. In addition, explain what the Y, Z, W variables refer to and their purpose</font>"
   ]
  },
  {
   "cell_type": "code",
   "execution_count": 337,
   "id": "7985eb85-6a89-4d01-b6cf-d58cb8b4d23f",
   "metadata": {},
   "outputs": [],
   "source": [
    "class NNet:\n",
    "    def __init__(self, input_size = 784, output_size = 1, batch_size = 1000, hidden_layers = [500, 250, 50]):\n",
    "        self.Y = []\n",
    "        self.Z = []\n",
    "        self.W = []\n",
    "        self.input_size = input_size\n",
    "        self.output_size = output_size\n",
    "        self.batch_size = batch_size\n",
    "        self.hidden_layers = hidden_layers\n",
    "\n",
    "        layers = [input_size] + hidden_layers + [output_size]\n",
    "        L = len(hidden_layers) + 1\n",
    "    \n",
    "        for i in range(1, L + 1):\n",
    "            self.Y.append(np.zeros((layers[i], batch_size)))                        #line1\n",
    "            self.Z.append(np.zeros((layers[i], batch_size)))                        #Line2\n",
    "            self.W.append(2*(np.random.rand(layers[i], layers[i-1] + 1) - 0.5))     #Line3"
   ]
  },
  {
   "cell_type": "markdown",
   "id": "7854a0e4-9b83-4f52-8b59-3e64af141209",
   "metadata": {},
   "source": [
    "**Answers** (to write answers edit this cell)\n",
    "\n",
    "(i) What does the Y, Z, W variables refer to and their purpose?\n",
    "    Y - Stores the activated outputs (after applying activation functions) for each layer\n",
    "    Z - Stores the pre-activation values (before applying activation functions) for each layer\n",
    "    W - Stores the weight matrices (including biases) for each layer connection\n",
    "\n",
    "(ii) Line1: Explanation\n",
    "    Initializes the Y matrix (activated outputs) for layer i with zeros , Dimensions: (number of units in current layer) × (batch size) , Will store the output after applying activation function (ReLU or sigmoid)\n",
    "\n",
    "(iii) Line2: Explanation\n",
    "    Initializes the Z matrix (pre-activation values) for layer i with zeros , Dimensions: (number of units in current layer) × (batch size) , Will store the linear transformation (W·X + b) before activation\n",
    "\n",
    "(iv) Line3: Explanation\n",
    "    Initializes weight matrices with random values between -1 and 1 , Dimensions: (units in current layer) × (units in previous layer + 1) , The \"+1\" accounts for bias terms (weights are initialized with Xavier-like initialization), Random initialization helps break symmetry in learning"
   ]
  },
  {
   "cell_type": "markdown",
   "id": "7ee71406-c0f7-4114-9d9c-bf25fe6d208a",
   "metadata": {
    "deletable": false,
    "editable": false
   },
   "source": [
    "**Q7.** Now we will implement the feedforward algorithm. Recall from the lectures that for each layer $l$ there is input $Y^{(l-1)}$ from the previous layer if $l > 1$ and input data $X$ if $l = 1$. Then we compute $Z^{(l)}$ using the weight matrix $W^{(l)}$ as follows from matrix multiplication:\n",
    "\n",
    "$Z^{(l)} = W^{(l)} Y^{(l-1)}$\n",
    "\n",
    "Make sure that during multiplication you add an additional row of one's to $Y^{(l-1)}$ to accommodate the bias term (concatenate the row of ones as the last row to be consistent with the grader). However, the rows of ones should not permanently remain on $Y^{(l-1)}$. <font color='blue'>Explain what the bias term is and how adding a row of one's help with the bias terms.</font> The weight matrices are initialised to afford this extra bias term, so no change to either $Z^{(l)}$ or $W^{(l)}$ is needed.\n",
    "\n",
    "Next compute $Y^{(l)}$, the output of layer $l$ by activation through sigmoid.\n",
    "\n",
    "$Y^{(l)} = \\sigma(Z^{(l)})$\n",
    "\n",
    "The implemented feedforward algorithm should take in a NNet model and an input matrix $X$ and output the modified MLP model - the $Y$'s and $Z$'s computed should be stored in the model for the backpropagation algorithm.\n",
    "\n",
    "As usual, avoid for loops as much as possible, use the power of numpy. However, you may use a for loop to iterate through the layers of the model."
   ]
  },
  {
   "cell_type": "code",
   "execution_count": 338,
   "id": "c41a778a-0d06-4295-ac80-3ea6bfbad9f0",
   "metadata": {},
   "outputs": [],
   "source": [
    "def feedforward(model, X):\n",
    "\n",
    "    Y_prev = X \n",
    "\n",
    "    for i in range(len(model.hidden_layers) + 1):\n",
    "        ones_row = np.ones((1, Y_prev.shape[1])) \n",
    "        augmented_input = np.vstack((Y_prev, ones_row)) \n",
    "\n",
    "        model.Z[i] = np.dot(model.W[i], augmented_input) \n",
    "\n",
    "        if i < len(model.hidden_layers): \n",
    "            model.Y[i] = ReLu(model.Z[i])\n",
    "        else:  \n",
    "            model.Y[i] = sigmoid(model.Z[i])\n",
    "\n",
    "        Y_prev = model.Y[i] \n",
    "\n",
    "    return(model)"
   ]
  },
  {
   "cell_type": "markdown",
   "id": "cbeea889-4e78-4bfc-b126-6d5d11ea571e",
   "metadata": {
    "deletable": false,
    "editable": false
   },
   "source": [
    "**Answer** (to write answers edit this cell)\n",
    "\n",
    "The bias term acts as an intercept in the linear transformation (like the 'b' in y = Wx + b)\n",
    "\n",
    "By adding a row of ones to Y^(l-1) and including corresponding weights in W^(l), we effectively implement:"
   ]
  },
  {
   "cell_type": "markdown",
   "id": "f5b4c037-df9a-49eb-9519-51b86555b33c",
   "metadata": {
    "deletable": false,
    "editable": false
   },
   "source": [
    "**Q8.** Now we will implement the backpropagation algorithm. The cost function $C$ at the end is given by the square loss.\n",
    "\n",
    "$C = \\frac{1}{2} ||Y^{(L)} - Y||^{2}$, where $Y^{(L)}$ is the final output vector of the feedforward algorithm and $Y$ is the actual label vector associated with the input $X$.\n",
    "\n",
    "At each layer $l = 1, 2, \\cdots, L$ we compute the following (note that the gradients are matrices with the same dimensions as the variable to which we derivating with respect to):\n",
    "\n",
    "1. Gradient of $C$ with respect to $Z^{(l)}$ as <br> $\\frac{\\partial C}{\\partial Z^{(l)}} = deriv(A^{(l)}(Z^{(l)})) \\odot \\frac{\\partial C}{\\partial Y^{(L)}} $, <br> where $A^{(l)}$ is the activation function of the $l$th layer, and we use the derivative of that here. The $\\odot$ refers to the elementwise multiplication.\n",
    "\n",
    "2. Gradient of $C$ with respect to $W^{(l)}$ as <br> $\\frac{\\partial C}{\\partial W^{(l)}} = \\frac{\\partial C}{\\partial Z^{(l)}} (Y^{(l-1)})^{T}$ <br> this is entirely matrix multiplication.\n",
    "\n",
    "3. Gradient of $C$ with respect to $Y^{(l-1)}$ as <br> $\\frac{\\partial C}{\\partial Y^{(l-1)}} = (W^{(l)})^{T} \\frac{\\partial C}{\\partial Z^{(l)}}$ <br> this is also entirely matrix multiplication.\n",
    "\n",
    "4. Update weights by: <br> $W^{(l)} \\leftarrow W^{(l)} - \\eta \\frac{\\partial C}{\\partial W^{(l)}}$, <br> where $\\eta > 0$ is the learning rate.\n",
    "\n",
    "The loss derivative (the gradient of $C$ with respect to $Y^{(L)}$) at the last layer is given by:\n",
    "\n",
    "$\\frac{\\partial C}{\\partial Y^{(L)}} = Y^{(L)} - Y$\n",
    "\n",
    "By convention we consider $Y^{(0)} = X$, the input data.\n",
    "\n",
    "Based on the backpropagation algorithm implement the backpropagation method in the following cell. Remember to temporarily add a row of ones to $Y^{(l-1)}$ (as the last row to be consistent with the grader) when computing $\\frac{\\partial C}{\\partial W^{(l)}}$ as we discussed back in the feedforward algorithm. Make sure you avoid for loops as much as possible.\n",
    "\n",
    "The function takes in a NNet model, input data $X$ and the corresponding class labels $Y$. learning rate can be set as desired."
   ]
  },
  {
   "cell_type": "code",
   "execution_count": 339,
   "id": "d958af3f-5a72-462d-844f-aba8ce5b03c8",
   "metadata": {},
   "outputs": [],
   "source": [
    "def backpropagation(model, X, Y, eta = 0.01):\n",
    "\n",
    "    L = len(model.hidden_layers) + 1\n",
    "\n",
    "    dC_dY = model.Y[L-1] - Y \n",
    "\n",
    "    for l in range(L-1, -1, -1):\n",
    "        if l < L-1: \n",
    "            deriv_A = deriv_ReLu(model.Y[l])\n",
    "        else: \n",
    "            deriv_A = deriv_sigmoid(model.Y[l])\n",
    "\n",
    "        dC_dZ = deriv_A * dC_dY  \n",
    "\n",
    "        if l == 0:\n",
    "            Y_prev = X  \n",
    "        else:\n",
    "            Y_prev = model.Y[l-1]  \n",
    "\n",
    "        ones_row = np.ones((1, Y_prev.shape[1])) \n",
    "        augmented_Y_prev = np.vstack((Y_prev, ones_row)) \n",
    "\n",
    "        dC_dW = np.dot(dC_dZ, augmented_Y_prev.T)  \n",
    "\n",
    "        model.W[l] -= eta * dC_dW\n",
    "\n",
    "        if l > 0:\n",
    "            dC_dY = np.dot(model.W[l][:, :-1].T, dC_dZ)  \n",
    "\n",
    "    return(model)"
   ]
  },
  {
   "cell_type": "markdown",
   "id": "a2fad553-1ba4-4bee-b04b-249b9e04c6a9",
   "metadata": {
    "deletable": false,
    "editable": false
   },
   "source": [
    "**Q9.** Now implement the training algorithm.\n",
    "\n",
    "The training method takes in training data $X$, actual label $Y$, number of epochs, batch_size, learning rate $\\eta > 0$. The training will happen in epochs. For each epoch, permute the data columns of both $X$ and $Y$, then divide both $X$ and $Y$ into mini batches each with the given batch size. Then run the feedforward and backpropagation for each such batch iteratively.\n",
    "\n",
    "At the end of each iteration, keep trach of the cost $C$ and the $l_2$-norm of change in each weight matrix $W^{(l)}$.\n",
    "\n",
    "At the end of the last epoch, plot the variation cost $C$ and change in weight matrices. Then return the trained model.\n",
    "\n"
   ]
  },
  {
   "cell_type": "code",
   "execution_count": 340,
   "id": "fa4070ea-4a6b-4cba-b882-fa2ea79a9247",
   "metadata": {},
   "outputs": [],
   "source": [
    "def train_NNet(X, Y, epochs = 20, batch_size = 1000, eta = 0.01):\n",
    "\n",
    "    global model\n",
    "\n",
    "    num_samples = X.shape[1]\n",
    "    costs = []\n",
    "    weight_changes = [[] for _ in range(len(model.W))]\n",
    "\n",
    "    # Ensure Y is 2D: (1, num_samples)\n",
    "    if len(Y.shape) == 1:\n",
    "        Y = Y.reshape(1, -1)\n",
    "\n",
    "    for epoch in range(epochs):\n",
    "        perm = np.random.permutation(num_samples)\n",
    "        X_perm = X[:, perm]\n",
    "        Y_perm = Y[:, perm]  # Fix: Index columns of 2D array\n",
    "\n",
    "        for i in range(0, num_samples, batch_size):\n",
    "            X_batch = X_perm[:, i:i+batch_size]\n",
    "            Y_batch = Y_perm[:, i:i+batch_size]\n",
    "\n",
    "            # Handle smaller last batch\n",
    "            current_batch_size = X_batch.shape[1]\n",
    "            if current_batch_size < batch_size:\n",
    "                pad_width = batch_size - current_batch_size\n",
    "                X_batch = np.pad(X_batch, ((0, 0), (0, pad_width)), mode='constant')\n",
    "                Y_batch = np.pad(Y_batch, ((0, 0), (0, pad_width)), mode='constant')\n",
    "\n",
    "            # Forward and backward pass\n",
    "            model = feedforward(model, X_batch)\n",
    "            cost = 0.5 * np.sum((model.Y[-1] - Y_batch) ** 2)\n",
    "            #print(f\"Epoch {epoch}, Batch {i//batch_size}, Cost: {cost}\")\n",
    "            costs.append(cost)\n",
    "\n",
    "            prev_W = [np.copy(w) for w in model.W]\n",
    "            model = backpropagation(model, X_batch, Y_batch, eta)\n",
    "\n",
    "            for l in range(len(model.W)):\n",
    "                delta_W = model.W[l] - prev_W[l]\n",
    "                weight_changes[l].append(np.linalg.norm(delta_W))\n",
    "\n",
    "    # Plotting\n",
    "    plt.figure(figsize=(12, 6))\n",
    "    plt.subplot(1, 2, 1)\n",
    "    plt.plot(costs)\n",
    "    plt.title('Cost over Iterations')\n",
    "    plt.xlabel('Iteration')\n",
    "    plt.ylabel('Cost')\n",
    "\n",
    "    plt.subplot(1, 2, 2)\n",
    "    for l in range(len(weight_changes)):\n",
    "        plt.plot(weight_changes[l], label=f'Layer {l+1}')\n",
    "    plt.title('L2-norm of Weight Changes')\n",
    "    plt.xlabel('Iteration')\n",
    "    plt.ylabel('L2-norm')\n",
    "    plt.legend()\n",
    "    plt.show()\n",
    "\n",
    "    return(model)"
   ]
  },
  {
   "cell_type": "markdown",
   "id": "2cd20299-a129-4d1d-a406-84e1a4dba621",
   "metadata": {
    "deletable": false,
    "editable": false
   },
   "source": [
    "## Section 3: Evaluation using test data"
   ]
  },
  {
   "cell_type": "markdown",
   "id": "d954c37c-f1b7-4e87-aedd-cf9e7624f612",
   "metadata": {
    "deletable": false,
    "editable": false
   },
   "source": [
    "**Q10.** Implement the following function predict. Given test images (3 dimensional numpy array that contains $28 \\times 28$ digit images) it will correctly recognize the written digits between d1 and d2. You can assume that test_images will only contain images of digits d1 and d2. Inside predict you would need to preprocess the images using vectorize, predict the correct labels using model and then output the correct lables. Output should be a vector predicted of d1's and d2's, predicted[i] should correspond to the test_image[i]."
   ]
  },
  {
   "cell_type": "code",
   "execution_count": 341,
   "id": "977dcbb8-1b5c-4f49-89f6-9bd90833957b",
   "metadata": {
    "deletable": false
   },
   "outputs": [],
   "source": [
    "def predict(model, test_images, d1, d2):\n",
    "\n",
    "    test_images_vectorized = vectorize_images(test_images)\n",
    "\n",
    "    model_with_predictions = feedforward(model, test_images_vectorized)\n",
    "    predictions = model_with_predictions.Y[-1]\n",
    "    predicted = np.where(predictions >= 0.5, d2, d1).flatten()\n",
    "\n",
    "    return(predicted)"
   ]
  },
  {
   "cell_type": "markdown",
   "id": "ab6f1db0-8f5f-442c-84f1-578c77b99537",
   "metadata": {
    "deletable": false
   },
   "source": [
    "**Q11.** Use the train_NNet function to train a MLP model to classify between images of digits $1$ and $5$. An accuracy $>= 99%$ is achievable. Test with different batch sizes, $\\eta$ values and hidden layers. Find which of those hyperparameters gives the best test accuracy. Name this model, model_1_5. This model will be tested on unseen test data within the grader. So make sure you train the best possible model. The grader will use your own predict function to evaluate the model."
   ]
  },
  {
   "cell_type": "code",
   "execution_count": 342,
   "id": "b0561199-92cc-4344-8509-c8ab798c33ab",
   "metadata": {
    "scrolled": true
   },
   "outputs": [
    {
     "name": "stdout",
     "output_type": "stream",
     "text": [
      "Best Configuration: {'batch_size': 32, 'eta': 0.1, 'hidden_layers': [256]}\n",
      "Training final model on the full dataset...\n"
     ]
    },
    {
     "data": {
      "image/png": "[encoded data removed]",
      "text/plain": [
       "<Figure size 1200x600 with 2 Axes>"
      ]
     },
     "metadata": {},
     "output_type": "display_data"
    },
    {
     "name": "stdout",
     "output_type": "stream",
     "text": [
      "Validation Accuracy: 99.84%\n",
      "Test Accuracy: 99.84%\n"
     ]
    }
   ],
   "source": [
    "from sklearn.model_selection import train_test_split\n",
    "\n",
    "hyperparameters = {\n",
    "    \"batch_sizes\": [32, 64, 128, 256],\n",
    "    \"etas\": [0.001, 0.01, 0.1],\n",
    "    \"hidden_layers\": [[256], [128, 64], [512, 256, 128]]\n",
    "}\n",
    "\n",
    "best_accuracy = 0\n",
    "best_config = None\n",
    "best_model = None\n",
    "global model\n",
    "\n",
    "# Split the data into training and testing subsets\n",
    "X_train, X_val, y_train, y_val = train_test_split(\n",
    "    train_X_extract, train_y_extract, test_size=0.1, random_state=42\n",
    ")\n",
    "\n",
    "X_train = vectorize_images(X_train) # Vectorize training data\n",
    "y_train = np.where(y_train == 5, 1, 0)\n",
    "\n",
    "\n",
    "best_config = {\n",
    "    \"batch_size\":32,\n",
    "    \"eta\": 0.1,\n",
    "    \"hidden_layers\": [256]\n",
    "}  #99.75349219\n",
    "\n",
    "if best_config:\n",
    "    print(f\"Best Configuration: {best_config}\")\n",
    "    print(\"Training final model on the full dataset...\")\n",
    "\n",
    "    # Preprocess the full dataset\n",
    "    X_full = vectorize_images(train_X_extract)\n",
    "    y_full_binary = np.where(train_y_extract == 5, 1, 0)\n",
    "\n",
    "    # Initialize and train the final model\n",
    "    model = NNet(\n",
    "        input_size=784, output_size=1, hidden_layers=best_config[\"hidden_layers\"]\n",
    "    )\n",
    "    model_1_5 = train_NNet(\n",
    "        X_full, y_full_binary, epochs=20,\n",
    "        batch_size=best_config[\"batch_size\"], eta=best_config[\"eta\"]\n",
    "    )\n",
    "\n",
    "predicted = predict(model_1_5 , X_val , d1=1 ,d2=5)\n",
    "accuracy = accuracy_score(y_val , predicted)\n",
    "print(f\"Validation Accuracy: {accuracy*100:.2f}%\")\n",
    "\n",
    "test_images = X_val\n",
    "test_labels = y_val\n",
    "test_predict = predict(model_1_5 , test_images , d1=1 ,d2=5)\n",
    "test_accuracy = accuracy_score(test_labels , test_predict)\n",
    "print(f\"Test Accuracy: {test_accuracy*100:.2f}%\")"
   ]
  },
  {
   "cell_type": "markdown",
   "id": "de8d0cb5-78d7-486e-98eb-1f162888c79a",
   "metadata": {},
   "source": [
    "**Q12.** Do the same as in Q11 with the digits $7$ and $9$ Name this model, model_7_9. This model will be tested on unseen test data within the grader. So make sure you train the best possible model. The grader will use your own predict function to evaluate the model."
   ]
  },
  {
   "cell_type": "code",
   "execution_count": 343,
   "id": "5f341921-1e67-49d2-95c7-72c9f06486e8",
   "metadata": {
    "scrolled": true
   },
   "outputs": [
    {
     "data": {
      "image/png": "[encoded data removed]",
      "text/plain": [
       "<Figure size 1200x600 with 2 Axes>"
      ]
     },
     "metadata": {},
     "output_type": "display_data"
    },
    {
     "name": "stdout",
     "output_type": "stream",
     "text": [
      "Validation Accuracy: 98.36%\n",
      "Test Accuracy: 98.36%\n"
     ]
    }
   ],
   "source": [
    "from sklearn.model_selection import train_test_split\n",
    "\n",
    "data = np.load('train_mnist.npz')\n",
    "train_X = data['x']\n",
    "train_y = data['y']\n",
    "\n",
    "hyperparameters = {\n",
    "    \"batch_sizes\": [32, 64, 128, 256],\n",
    "    \"etas\": [0.001, 0.01, 0.1],\n",
    "    \"hidden_layers\": [[256], [128, 64], [512, 256, 128]]\n",
    "}\n",
    "\n",
    "best_accuracy = 0\n",
    "best_config = None\n",
    "best_model = None\n",
    "\n",
    "train_X_extracted, train_y_extracted = extract_digits(train_X, train_y, 7, 9)\n",
    "\n",
    "# Split the data into training and testing subsets\n",
    "X_train, X_vali, y_train, y_vali = train_test_split(\n",
    "    train_X_extracted, train_y_extracted, test_size=0.1, random_state=42\n",
    ")\n",
    "\n",
    "X_train = vectorize_images(X_train) # Vectorize training data\n",
    "y_train = np.where(y_train == 9, 1, 0) # Convert labels to class labels 0 and 1 (7 -> 0, 9 -> 1)\n",
    "\n",
    "#y_test1 = np.where(y_vali == 9, 1, 0)\n",
    "\n",
    "best_config = {\n",
    "    \"batch_size\": 32,\n",
    "    \"eta\": 0.01,\n",
    "    \"hidden_layers\": [256]\n",
    "}\n",
    "# {'batch_size': 32, 'eta': 0.01, 'hidden_layers': [256], 'accuracy': 97.05400981996726}\n",
    "\n",
    "if best_config:\n",
    "    # Preprocess the full dataset\n",
    "    X_full = vectorize_images(train_X_extracted)\n",
    "    y_full_binary1 = np.where(train_y_extracted == 9, 1, 0)\n",
    "\n",
    "    # Initialize and train the final model\n",
    "    model = NNet(\n",
    "        input_size=784, output_size=1, hidden_layers=best_config[\"hidden_layers\"]\n",
    "    )\n",
    "    model_7_9 = train_NNet(\n",
    "        X_full, y_full_binary1, epochs=20,\n",
    "        batch_size=best_config[\"batch_size\"], eta=best_config[\"eta\"]\n",
    "    )\n",
    "\n",
    "predicted = predict(model_7_9 ,X_vali ,d1=7 ,d2=9)\n",
    "accuracyy = accuracy_score(y_vali ,predicted)\n",
    "print(f\"Validation Accuracy: {accuracyy*100:.2f}%\")\n",
    "\n",
    "test_images = X_vali\n",
    "test_labels = y_vali\n",
    "test_predict = predict(model_7_9 ,test_images ,d1=7 ,d2=9)\n",
    "test_accuracy = accuracy_score(test_labels ,test_predict)\n",
    "print(f\"Test Accuracy: {test_accuracy*100:.2f}%\")"
   ]
  },
  {
   "cell_type": "code",
   "execution_count": null,
   "id": "7b3b4f1f-11d5-4610-bd00-e6ec7c0294aa",
   "metadata": {},
   "outputs": [],
   "source": []
  }
 ],
 "metadata": {
  "kernelspec": {
   "display_name": "Python 3 (ipykernel)",
   "language": "python",
   "name": "python3"
  },
  "language_info": {
   "codemirror_mode": {
    "name": "ipython",
    "version": 3
   },
   "file_extension": ".py",
   "mimetype": "text/x-python",
   "name": "python",
   "nbconvert_exporter": "python",
   "pygments_lexer": "ipython3",
   "version": "3.8.8"
  }
 },
 "nbformat": 4,
 "nbformat_minor": 5
}
